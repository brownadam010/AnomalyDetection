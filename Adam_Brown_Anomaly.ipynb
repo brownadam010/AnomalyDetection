{
 "cells": [
  {
   "cell_type": "code",
   "execution_count": 2,
   "metadata": {},
   "outputs": [],
   "source": [
    "import numpy as np\n",
    "import math as mth"
   ]
  },
  {
   "cell_type": "code",
   "execution_count": 10,
   "metadata": {},
   "outputs": [
    {
     "name": "stdout",
     "output_type": "stream",
     "text": [
      "Remove 160.0 from the list because it is 4.14 times of standard deviation of the list without it\n",
      "160.0 has been removed from the list!\n",
      "\n",
      "Remove 55.0 from the list because it is 3.57 times of standard deviation of the list without it\n",
      "55.0 has been removed from the list!\n",
      "\n",
      "Remove 131.86 from the list because it is 3.08 times of standard deviation of the list without it\n",
      "131.86 has been removed from the list!\n",
      "\n",
      "No more anomaly is detected!\n"
     ]
    }
   ],
   "source": [
    "#read text file\n",
    "anomaly_set = open(\"anomaly_detection.txt\", \"r\")\n",
    "\n",
    "#seperate words into list\n",
    "anomaly_clean = anomaly_set.read().split(\"\\n\")\n",
    "\n",
    "#pop last item in list because it is a blank space due to \\n split\n",
    "anomaly_clean.pop()\n",
    "\n",
    "#create np array\n",
    "anom_array = np.array(anomaly_clean)\n",
    "\n",
    "#parse array types to float\n",
    "array = anom_array.astype(float)\n",
    "array.sort()\n",
    "\n",
    "\n",
    "def anomaly_detection(x):            \n",
    "            \n",
    "    #loop through array\n",
    "    for i in x:\n",
    "            \n",
    "        #get small value and large value\n",
    "        small_value = x[0]\n",
    "        large_value = x[len(x) - 1]\n",
    "        \n",
    "        #get array without small value or large value\n",
    "        small_array = np.delete(x, np.argwhere(x == x[0]))\n",
    "        large_array = np.delete(x, np.argwhere(x == x[len(x) - 1]))\n",
    "            \n",
    "        #get mean of small array and large array without their members\n",
    "        small_mean = np.mean(small_array)\n",
    "        large_mean = np.mean(large_array)\n",
    "            \n",
    "        #get difference of mean and member, make large mean positive for comparison\n",
    "        small_mean_dif = small_mean - x[0]\n",
    "        large_mean_dif = abs(large_mean - x[len(x) - 1])\n",
    "            \n",
    "        #if large mean is smaller than small mean \n",
    "        #find deviation of small array and if the difference is larger than 3 * the deviation\n",
    "        #if not there are no more anomaliess\n",
    "        if small_mean_dif > large_mean_dif:\n",
    "            standard_devi = np.std(small_array)\n",
    "            if small_mean_dif > (3*standard_devi):\n",
    "                deviation = small_mean_dif / standard_devi\n",
    "                print(\"Remove \" + str(round(x[0], 2)) + \" from the list because it is \" + str(round(deviation, 2)) + \" times of standard deviation of the list without it\")\n",
    "                print(str(round(x[0], 2)) + \" has been removed from the list!\\n\")\n",
    "                x = np.delete(x, np.argwhere(x == x[0]))\n",
    "                \n",
    "            else:\n",
    "                print(\"No more anomaly is detected!\")\n",
    "                break\n",
    "        #if large mean is bigger than small mean\n",
    "        #find deviation of large array and if difference is larger than 3 * the deviation\n",
    "        #if not there are no more anomalies.\n",
    "        else:\n",
    "            standard_devi = np.std(large_array)\n",
    "            if large_mean_dif > (3*standard_devi):\n",
    "                deviation = large_mean_dif / standard_devi\n",
    "                print(\"Remove \" + str(round(x[len(x) - 1], 2)) + \" from the list because it is \" + str(round(deviation, 2)) + \" times of standard deviation of the list without it\")\n",
    "                print(str(round(x[len(x) - 1], 2)) + \" has been removed from the list!\\n\")\n",
    "                x = np.delete(x, np.argwhere(x == x[len(x) - 1]))\n",
    "                \n",
    "            else:\n",
    "                print(\"No more anomaly is detected!\")\n",
    "                break\n",
    "    \n",
    "    \n",
    "anomaly_detection(array)"
   ]
  },
  {
   "cell_type": "code",
   "execution_count": null,
   "metadata": {},
   "outputs": [],
   "source": []
  },
  {
   "cell_type": "code",
   "execution_count": null,
   "metadata": {},
   "outputs": [],
   "source": []
  }
 ],
 "metadata": {
  "kernelspec": {
   "display_name": "Python 3",
   "language": "python",
   "name": "python3"
  },
  "language_info": {
   "codemirror_mode": {
    "name": "ipython",
    "version": 3
   },
   "file_extension": ".py",
   "mimetype": "text/x-python",
   "name": "python",
   "nbconvert_exporter": "python",
   "pygments_lexer": "ipython3",
   "version": "3.7.6"
  }
 },
 "nbformat": 4,
 "nbformat_minor": 4
}
